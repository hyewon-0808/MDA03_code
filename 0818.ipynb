{
  "nbformat": 4,
  "nbformat_minor": 0,
  "metadata": {
    "colab": {
      "provenance": [],
      "authorship_tag": "ABX9TyMUnMlffy4MOZ7uuvrplw/E",
      "include_colab_link": true
    },
    "kernelspec": {
      "name": "python3",
      "display_name": "Python 3"
    },
    "language_info": {
      "name": "python"
    }
  },
  "cells": [
    {
      "cell_type": "markdown",
      "metadata": {
        "id": "view-in-github",
        "colab_type": "text"
      },
      "source": [
        "<a href=\"https://colab.research.google.com/github/hyewon-0808/MDA03_code/blob/main/0818.ipynb\" target=\"_parent\"><img src=\"https://colab.research.google.com/assets/colab-badge.svg\" alt=\"Open In Colab\"/></a>"
      ]
    },
    {
      "cell_type": "code",
      "execution_count": null,
      "metadata": {
        "id": "8zZpk2cE0Guu"
      },
      "outputs": [],
      "source": []
    },
    {
      "cell_type": "code",
      "execution_count": null,
      "metadata": {
        "id": "Q-SHZBfvvNlg"
      },
      "outputs": [],
      "source": [
        "# 리포지토리 = 원격 저장소\n",
        "\n",
        "# 지역 저장소가 아닌 컴퓨터나 서버에 만든 저장소\n",
        "# 지역 저장소와 연결되어 있으면서 ‘백업’과 ‘협업’에서 중요한 역할\n",
        "# 인터넷에서 원격 저장소 제공 서비스를 주로 사용 🡪 깃허브\n"
      ]
    },
    {
      "cell_type": "code",
      "source": [
        "git config --global user.name \"hyewon-0808\"\n",
        "git config --global user.email \"bhw24145@gmail.com\""
      ],
      "metadata": {
        "id": "ngLmfzqY4JpH"
      },
      "execution_count": null,
      "outputs": []
    }
  ]
}